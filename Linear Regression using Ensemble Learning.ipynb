{
 "cells": [
  {
   "cell_type": "markdown",
   "id": "5cb1a452",
   "metadata": {},
   "source": [
    "# Linear Regression using Ensemble learning"
   ]
  },
  {
   "cell_type": "code",
   "execution_count": 7,
   "id": "aace1f7f",
   "metadata": {},
   "outputs": [],
   "source": [
    "# Import necessary libraries\n",
    "import numpy as np\n",
    "import pandas as pd\n",
    "from sklearn.datasets import load_diabetes\n",
    "from sklearn.model_selection import train_test_split, KFold, cross_val_score, LeaveOneOut\n",
    "from sklearn.ensemble import BaggingRegressor, AdaBoostRegressor, StackingRegressor\n",
    "from sklearn.linear_model import LinearRegression\n",
    "from sklearn.ensemble import RandomForestRegressor\n",
    "from sklearn.metrics import mean_squared_error, mean_absolute_error, r2_score"
   ]
  },
  {
   "cell_type": "code",
   "execution_count": 2,
   "id": "1e3d2a72",
   "metadata": {},
   "outputs": [
    {
     "data": {
      "text/html": [
       "<div>\n",
       "<style scoped>\n",
       "    .dataframe tbody tr th:only-of-type {\n",
       "        vertical-align: middle;\n",
       "    }\n",
       "\n",
       "    .dataframe tbody tr th {\n",
       "        vertical-align: top;\n",
       "    }\n",
       "\n",
       "    .dataframe thead th {\n",
       "        text-align: right;\n",
       "    }\n",
       "</style>\n",
       "<table border=\"1\" class=\"dataframe\">\n",
       "  <thead>\n",
       "    <tr style=\"text-align: right;\">\n",
       "      <th></th>\n",
       "      <th>age</th>\n",
       "      <th>sex</th>\n",
       "      <th>bmi</th>\n",
       "      <th>bp</th>\n",
       "      <th>s1</th>\n",
       "      <th>s2</th>\n",
       "      <th>s3</th>\n",
       "      <th>s4</th>\n",
       "      <th>s5</th>\n",
       "      <th>s6</th>\n",
       "      <th>target</th>\n",
       "    </tr>\n",
       "  </thead>\n",
       "  <tbody>\n",
       "    <tr>\n",
       "      <th>0</th>\n",
       "      <td>0.038076</td>\n",
       "      <td>0.050680</td>\n",
       "      <td>0.061696</td>\n",
       "      <td>0.021872</td>\n",
       "      <td>-0.044223</td>\n",
       "      <td>-0.034821</td>\n",
       "      <td>-0.043401</td>\n",
       "      <td>-0.002592</td>\n",
       "      <td>0.019907</td>\n",
       "      <td>-0.017646</td>\n",
       "      <td>151.0</td>\n",
       "    </tr>\n",
       "    <tr>\n",
       "      <th>1</th>\n",
       "      <td>-0.001882</td>\n",
       "      <td>-0.044642</td>\n",
       "      <td>-0.051474</td>\n",
       "      <td>-0.026328</td>\n",
       "      <td>-0.008449</td>\n",
       "      <td>-0.019163</td>\n",
       "      <td>0.074412</td>\n",
       "      <td>-0.039493</td>\n",
       "      <td>-0.068332</td>\n",
       "      <td>-0.092204</td>\n",
       "      <td>75.0</td>\n",
       "    </tr>\n",
       "    <tr>\n",
       "      <th>2</th>\n",
       "      <td>0.085299</td>\n",
       "      <td>0.050680</td>\n",
       "      <td>0.044451</td>\n",
       "      <td>-0.005670</td>\n",
       "      <td>-0.045599</td>\n",
       "      <td>-0.034194</td>\n",
       "      <td>-0.032356</td>\n",
       "      <td>-0.002592</td>\n",
       "      <td>0.002861</td>\n",
       "      <td>-0.025930</td>\n",
       "      <td>141.0</td>\n",
       "    </tr>\n",
       "    <tr>\n",
       "      <th>3</th>\n",
       "      <td>-0.089063</td>\n",
       "      <td>-0.044642</td>\n",
       "      <td>-0.011595</td>\n",
       "      <td>-0.036656</td>\n",
       "      <td>0.012191</td>\n",
       "      <td>0.024991</td>\n",
       "      <td>-0.036038</td>\n",
       "      <td>0.034309</td>\n",
       "      <td>0.022688</td>\n",
       "      <td>-0.009362</td>\n",
       "      <td>206.0</td>\n",
       "    </tr>\n",
       "    <tr>\n",
       "      <th>4</th>\n",
       "      <td>0.005383</td>\n",
       "      <td>-0.044642</td>\n",
       "      <td>-0.036385</td>\n",
       "      <td>0.021872</td>\n",
       "      <td>0.003935</td>\n",
       "      <td>0.015596</td>\n",
       "      <td>0.008142</td>\n",
       "      <td>-0.002592</td>\n",
       "      <td>-0.031988</td>\n",
       "      <td>-0.046641</td>\n",
       "      <td>135.0</td>\n",
       "    </tr>\n",
       "  </tbody>\n",
       "</table>\n",
       "</div>"
      ],
      "text/plain": [
       "        age       sex       bmi        bp        s1        s2        s3  \\\n",
       "0  0.038076  0.050680  0.061696  0.021872 -0.044223 -0.034821 -0.043401   \n",
       "1 -0.001882 -0.044642 -0.051474 -0.026328 -0.008449 -0.019163  0.074412   \n",
       "2  0.085299  0.050680  0.044451 -0.005670 -0.045599 -0.034194 -0.032356   \n",
       "3 -0.089063 -0.044642 -0.011595 -0.036656  0.012191  0.024991 -0.036038   \n",
       "4  0.005383 -0.044642 -0.036385  0.021872  0.003935  0.015596  0.008142   \n",
       "\n",
       "         s4        s5        s6  target  \n",
       "0 -0.002592  0.019907 -0.017646   151.0  \n",
       "1 -0.039493 -0.068332 -0.092204    75.0  \n",
       "2 -0.002592  0.002861 -0.025930   141.0  \n",
       "3  0.034309  0.022688 -0.009362   206.0  \n",
       "4 -0.002592 -0.031988 -0.046641   135.0  "
      ]
     },
     "execution_count": 2,
     "metadata": {},
     "output_type": "execute_result"
    }
   ],
   "source": [
    "# Load the Diabetes dataset\n",
    "diabetes = load_diabetes()\n",
    "X = pd.DataFrame(diabetes.data, columns=diabetes.feature_names)\n",
    "y = diabetes.target\n",
    "\n",
    "df = pd.concat([X, pd.Series(y, name='target')], axis=1)\n",
    "df.head()"
   ]
  },
  {
   "cell_type": "code",
   "execution_count": 3,
   "id": "9d0b83f4",
   "metadata": {},
   "outputs": [
    {
     "name": "stdout",
     "output_type": "stream",
     "text": [
      "<class 'pandas.core.frame.DataFrame'>\n",
      "RangeIndex: 442 entries, 0 to 441\n",
      "Data columns (total 11 columns):\n",
      " #   Column  Non-Null Count  Dtype  \n",
      "---  ------  --------------  -----  \n",
      " 0   age     442 non-null    float64\n",
      " 1   sex     442 non-null    float64\n",
      " 2   bmi     442 non-null    float64\n",
      " 3   bp      442 non-null    float64\n",
      " 4   s1      442 non-null    float64\n",
      " 5   s2      442 non-null    float64\n",
      " 6   s3      442 non-null    float64\n",
      " 7   s4      442 non-null    float64\n",
      " 8   s5      442 non-null    float64\n",
      " 9   s6      442 non-null    float64\n",
      " 10  target  442 non-null    float64\n",
      "dtypes: float64(11)\n",
      "memory usage: 38.1 KB\n"
     ]
    }
   ],
   "source": [
    "df.info()"
   ]
  },
  {
   "cell_type": "code",
   "execution_count": 4,
   "id": "67c4ffcd",
   "metadata": {},
   "outputs": [
    {
     "data": {
      "text/plain": [
       "(442, 11)"
      ]
     },
     "execution_count": 4,
     "metadata": {},
     "output_type": "execute_result"
    }
   ],
   "source": [
    "df.shape"
   ]
  },
  {
   "cell_type": "code",
   "execution_count": 5,
   "id": "2fa705ae",
   "metadata": {},
   "outputs": [],
   "source": [
    "# Split the data into training and testing sets\n",
    "X_train, X_test, y_train, y_test = train_test_split(X, y, test_size=0.2, random_state=42)"
   ]
  },
  {
   "cell_type": "code",
   "execution_count": 6,
   "id": "faaec15d",
   "metadata": {},
   "outputs": [],
   "source": [
    "# Define base models\n",
    "base_models = [\n",
    "    ('lr', LinearRegression()),\n",
    "    ('rf', RandomForestRegressor(n_estimators=50, random_state=42))\n",
    "]"
   ]
  },
  {
   "cell_type": "markdown",
   "id": "d3ceddfd",
   "metadata": {},
   "source": [
    "# Bagging"
   ]
  },
  {
   "cell_type": "code",
   "execution_count": 13,
   "id": "e06f3960",
   "metadata": {},
   "outputs": [
    {
     "name": "stdout",
     "output_type": "stream",
     "text": [
      "Metrics for Bagging:\n",
      "MSE: 2919.8853\n",
      "MAE: 42.9606\n",
      "R2 Score: 0.4489\n"
     ]
    }
   ],
   "source": [
    "# Perform Bagging\n",
    "bagging = BaggingRegressor(estimator=LinearRegression(), n_estimators=10, random_state=42)\n",
    "bagging.fit(X_train, y_train)\n",
    "\n",
    "# Make predictions on the test set\n",
    "y_pred_bagging = bagging.predict(X_test)\n",
    "\n",
    "# Calculate metrics for the model\n",
    "bagging_mse = mean_squared_error(y_test, y_pred_bagging)\n",
    "bagging_mae = mean_absolute_error(y_test, y_pred_bagging)\n",
    "bagging_r2 = r2_score(y_test, y_pred_bagging)\n",
    "\n",
    "print(\"Metrics for Bagging:\")\n",
    "print(\"MSE: {:.4f}\".format(bagging_mse))\n",
    "print(\"MAE: {:.4f}\".format(bagging_mae))\n",
    "print(\"R2 Score: {:.4f}\".format(bagging_r2))"
   ]
  },
  {
   "cell_type": "code",
   "execution_count": 15,
   "id": "d174da63",
   "metadata": {},
   "outputs": [
    {
     "name": "stdout",
     "output_type": "stream",
     "text": [
      "Mean Squared Errors for Bagging using K-fold CV :3116.4870\n"
     ]
    }
   ],
   "source": [
    "# Evaluate models using k-fold cross-validation\n",
    "k_fold = KFold(n_splits=5, shuffle=True, random_state=42)\n",
    "\n",
    "bagging_scores = cross_val_score(bagging, X_train, y_train, cv=k_fold, scoring='neg_mean_squared_error')\n",
    "\n",
    "bagging_mse = np.mean(np.abs(bagging_scores))\n",
    "\n",
    "print(\"Mean Squared Errors for Bagging using K-fold CV :{:.4f}\".format(bagging_mse))"
   ]
  },
  {
   "cell_type": "code",
   "execution_count": 16,
   "id": "a5a9f591",
   "metadata": {},
   "outputs": [
    {
     "name": "stdout",
     "output_type": "stream",
     "text": [
      "\n",
      "Mean Squared Errors for Bagging using Leave-One-Out CV:3072.0523\n"
     ]
    }
   ],
   "source": [
    "# Evaluate models using leave-one-out cross-validation\n",
    "leave_one_out = LeaveOneOut()\n",
    "\n",
    "bagging_loo_scores = cross_val_score(bagging, X_train, y_train, cv=leave_one_out, scoring='neg_mean_squared_error')\n",
    "\n",
    "bagging_loo_mse = np.mean(np.abs(bagging_loo_scores))\n",
    "\n",
    "print(\"Mean Squared Errors for Bagging using Leave-One-Out CV:{:.4f}\".format(bagging_loo_mse))"
   ]
  },
  {
   "cell_type": "markdown",
   "id": "97d3616c",
   "metadata": {},
   "source": [
    "# Boosting"
   ]
  },
  {
   "cell_type": "code",
   "execution_count": 18,
   "id": "141148a7",
   "metadata": {},
   "outputs": [
    {
     "name": "stdout",
     "output_type": "stream",
     "text": [
      "\n",
      "Metrics for Boosting:\n",
      "MSE: 2938.1300\n",
      "MAE: 43.4317\n",
      "R2 Score: 0.4454\n"
     ]
    }
   ],
   "source": [
    "# Perform Boosting\n",
    "boosting = AdaBoostRegressor(estimator=LinearRegression(), n_estimators=10, random_state=42)\n",
    "boosting.fit(X_train, y_train)\n",
    "\n",
    "# Make predictions on the test set\n",
    "y_pred_boosting = boosting.predict(X_test)\n",
    "\n",
    "# Calculate metrics for the model\n",
    "boosting_mse = mean_squared_error(y_test, y_pred_boosting)\n",
    "boosting_mae = mean_absolute_error(y_test, y_pred_boosting)\n",
    "boosting_r2 = r2_score(y_test, y_pred_boosting)\n",
    "\n",
    "print(\"\\nMetrics for Boosting:\")\n",
    "print(\"MSE: {:.4f}\".format(boosting_mse))\n",
    "print(\"MAE: {:.4f}\".format(boosting_mae))\n",
    "print(\"R2 Score: {:.4f}\".format(boosting_r2))"
   ]
  },
  {
   "cell_type": "code",
   "execution_count": 21,
   "id": "0c43f1be",
   "metadata": {},
   "outputs": [
    {
     "name": "stdout",
     "output_type": "stream",
     "text": [
      "Mean Squared Errors for Boosting using K-fold CV:3053.0579\n"
     ]
    }
   ],
   "source": [
    "# Evaluate models using k-fold cross-validation\n",
    "\n",
    "boosting_scores = cross_val_score(boosting, X_train, y_train, cv=k_fold, scoring='neg_mean_squared_error')\n",
    "\n",
    "boosting_mse = np.mean(np.abs(boosting_scores))\n",
    "\n",
    "print(\"Mean Squared Errors for Boosting using K-fold CV:{:.4f}\".format(boosting_mse))"
   ]
  },
  {
   "cell_type": "code",
   "execution_count": 22,
   "id": "03c7e522",
   "metadata": {},
   "outputs": [
    {
     "name": "stdout",
     "output_type": "stream",
     "text": [
      "Mean Squared Errors for Boosting using Leave-One-Out CV:3068.5920\n"
     ]
    }
   ],
   "source": [
    "# Evaluate models using leave-one-out cross-validation\n",
    "\n",
    "boosting_loo_scores = cross_val_score(boosting, X_train, y_train, cv=leave_one_out, scoring='neg_mean_squared_error')\n",
    "\n",
    "boosting_loo_mse = np.mean(np.abs(boosting_loo_scores))\n",
    "\n",
    "print(\"Mean Squared Errors for Boosting using Leave-One-Out CV:{:.4f}\".format(boosting_loo_mse))"
   ]
  },
  {
   "cell_type": "markdown",
   "id": "c41b76a6",
   "metadata": {},
   "source": [
    "# Stacking"
   ]
  },
  {
   "cell_type": "code",
   "execution_count": 23,
   "id": "599cc53c",
   "metadata": {},
   "outputs": [
    {
     "name": "stdout",
     "output_type": "stream",
     "text": [
      "\n",
      "Metrics for Stacking:\n",
      "MSE: 2835.3072\n",
      "MAE: 42.7984\n",
      "R2 Score: 0.4648\n"
     ]
    }
   ],
   "source": [
    "# Perform Stacking\n",
    "stacking = StackingRegressor(estimators=base_models, final_estimator=LinearRegression())\n",
    "stacking.fit(X_train, y_train)\n",
    "\n",
    "# Make predictions on the test set\n",
    "y_pred_stacking = stacking.predict(X_test)\n",
    "\n",
    "# Calculate metrics for the model\n",
    "stacking_mse = mean_squared_error(y_test, y_pred_stacking)\n",
    "stacking_mae = mean_absolute_error(y_test, y_pred_stacking)\n",
    "stacking_r2 = r2_score(y_test, y_pred_stacking)\n",
    "\n",
    "print(\"\\nMetrics for Stacking:\")\n",
    "print(\"MSE: {:.4f}\".format(stacking_mse))\n",
    "print(\"MAE: {:.4f}\".format(stacking_mae))\n",
    "print(\"R2 Score: {:.4f}\".format(stacking_r2))"
   ]
  },
  {
   "cell_type": "code",
   "execution_count": 24,
   "id": "4bfbd903",
   "metadata": {},
   "outputs": [
    {
     "name": "stdout",
     "output_type": "stream",
     "text": [
      "Mean Squared Errors for Stacking using K-fold CV:3056.6767\n"
     ]
    }
   ],
   "source": [
    "# Evaluate models using k-fold cross-validation\n",
    "\n",
    "stacking_scores = cross_val_score(stacking, X_train, y_train, cv=k_fold, scoring='neg_mean_squared_error')\n",
    "\n",
    "stacking_mse = np.mean(np.abs(stacking_scores))\n",
    "\n",
    "print(\"Mean Squared Errors for Stacking using K-fold CV:{:.4f}\".format(stacking_mse))"
   ]
  },
  {
   "cell_type": "code",
   "execution_count": 25,
   "id": "54c8e3e8",
   "metadata": {},
   "outputs": [
    {
     "name": "stdout",
     "output_type": "stream",
     "text": [
      "Mean Squared Errors for Stacking using Leave-One-Out CV:3080.1724\n"
     ]
    }
   ],
   "source": [
    "# Evaluate models using leave-one-out cross-validation\n",
    "\n",
    "stacking_loo_scores = cross_val_score(stacking, X_train, y_train, cv=leave_one_out, scoring='neg_mean_squared_error')\n",
    "\n",
    "stacking_loo_mse = np.mean(np.abs(stacking_loo_scores))\n",
    "\n",
    "print(\"Mean Squared Errors for Stacking using Leave-One-Out CV:{:.4f}\".format(stacking_loo_mse))"
   ]
  },
  {
   "cell_type": "markdown",
   "id": "7bb7951a",
   "metadata": {},
   "source": [
    "### We have now performed Bagging, Boosting and Stacking ensemble learning techniques on the diabetes dataset and have done model validation using both K-fold CV and leave-one-out CV. \n",
    "\n",
    "### The mean squared error after Cross validation is low for Boosting compared to other two.\n",
    "\n",
    "### By analysing the mean squared error scores of all the models using the Cross Validation I can say that Boosting ensemble model is better for the dataset."
   ]
  }
 ],
 "metadata": {
  "kernelspec": {
   "display_name": "Python 3 (ipykernel)",
   "language": "python",
   "name": "python3"
  },
  "language_info": {
   "codemirror_mode": {
    "name": "ipython",
    "version": 3
   },
   "file_extension": ".py",
   "mimetype": "text/x-python",
   "name": "python",
   "nbconvert_exporter": "python",
   "pygments_lexer": "ipython3",
   "version": "3.11.5"
  }
 },
 "nbformat": 4,
 "nbformat_minor": 5
}
